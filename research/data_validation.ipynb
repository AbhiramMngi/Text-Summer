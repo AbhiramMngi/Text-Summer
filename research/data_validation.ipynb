{
 "cells": [
  {
   "cell_type": "code",
   "execution_count": 2,
   "metadata": {},
   "outputs": [],
   "source": [
    "import os "
   ]
  },
  {
   "cell_type": "code",
   "execution_count": 3,
   "metadata": {},
   "outputs": [],
   "source": [
    "os.chdir(\"..\")"
   ]
  },
  {
   "cell_type": "code",
   "execution_count": 6,
   "metadata": {},
   "outputs": [],
   "source": [
    "from dataclasses import dataclass\n",
    "from pathlib import Path\n",
    "\n",
    "@dataclass(frozen=True)\n",
    "class DataValidationConfig:\n",
    "  root_dir: Path\n",
    "  STATUS_FILE: str\n",
    "  ALL_REQUIRED_FILES: list"
   ]
  },
  {
   "cell_type": "code",
   "execution_count": 7,
   "metadata": {},
   "outputs": [],
   "source": [
    "from textSummer.constants import *\n",
    "from textSummer.utils.common import read_yaml, create_directories\n",
    "\n",
    "class ConfigurationManager(object):\n",
    "  def __init__(\n",
    "      self,\n",
    "      config_filepath = CONFIG_FILE_PATH,\n",
    "      params_filepath = PARAMS_FILE_PATH\n",
    "  ):\n",
    "    self.config = read_yaml(config_filepath)\n",
    "    self.params = read_yaml(params_filepath)\n",
    "    print(create_directories)\n",
    "    create_directories([self.config.artifacts_root])\n",
    "  \n",
    "  def get_data_validation_config(self) -> DataValidationConfig:\n",
    "    config = self.config.data_validation\n",
    "\n",
    "    create_directories([config.root_dir])\n",
    "\n",
    "    return DataValidationConfig(\n",
    "      root_dir = config.root_dir,\n",
    "      STATUS_FILE = config.STATUS_FILE,\n",
    "      ALL_REQUIRED_FILES = config.ALL_REQUIRED_FILES\n",
    "    )\n",
    "  \n",
    "  "
   ]
  },
  {
   "cell_type": "code",
   "execution_count": 11,
   "metadata": {},
   "outputs": [],
   "source": [
    "from textSummer.logging import logger\n",
    "\n",
    "class DataValidation:\n",
    "  def __init__(\n",
    "      self,\n",
    "      config: DataValidationConfig\n",
    "  ):\n",
    "    self.config = config\n",
    "\n",
    "  def validate_all_files_exist(self) -> bool:\n",
    "    try:  \n",
    "      validation_status = True \n",
    "\n",
    "      all_files = os.listdir(os.path.join(\"artifacts\", \"data_ingestion\", \"samsum_dataset\"))\n",
    "\n",
    "      for file in self.config.ALL_REQUIRED_FILES:\n",
    "\n",
    "        validation_status = file in all_files\n",
    "\n",
    "        with open(self.config.STATUS_FILE, \"w\") as f:\n",
    "          f.write(f\"Validation Status: {validation_status}\")\n",
    "\n",
    "        if not validation_status: return validation_status\n",
    "\n",
    "      return validation_status\n",
    "    \n",
    "    except Exception as e:\n",
    "      raise e\n",
    "      \n"
   ]
  },
  {
   "cell_type": "code",
   "execution_count": 13,
   "metadata": {},
   "outputs": [
    {
     "name": "stdout",
     "output_type": "stream",
     "text": [
      "[2024-05-23 12:30:11,034: INFO: common: yaml file: config/config.yaml loaded successfully]\n",
      "hii {'artifacts_root': 'artifacts', 'data_ingestion': {'root_dir': 'artifacts/data_ingestion', 'source_url': 'https://github.com/entbappy/Branching-Tutorial/raw/master/summarizer-data.zip', 'local_data_file': 'artifacts/data_ingestion/data.zip', 'unzip_dir': 'artifacts/data_ingestion'}, 'data_validation': {'root_dir': 'artifacts/data_validation', 'STATUS_FILE': 'artifacts/data_validation/status.txt', 'ALL_REQUIRED_FILES': ['train', 'test', 'validation']}} <class 'box.config_box.ConfigBox'>\n",
      "[2024-05-23 12:30:11,036: INFO: common: yaml file: params.yaml loaded successfully]\n",
      "hii {'key': 'value'} <class 'box.config_box.ConfigBox'>\n",
      "<function create_directories at 0x105df5040>\n",
      "[2024-05-23 12:30:11,037: INFO: common: Created directory: artifacts]\n",
      "[2024-05-23 12:30:11,038: INFO: common: Created directory: artifacts/data_validation]\n"
     ]
    }
   ],
   "source": [
    "try:\n",
    "  config_man = ConfigurationManager()\n",
    "  data_validation_config = config_man.get_data_validation_config()\n",
    "  data_validation = DataValidation(data_validation_config)\n",
    "  data_validation.validate_all_files_exist()\n",
    "except Exception as e:\n",
    "  raise e"
   ]
  },
  {
   "cell_type": "code",
   "execution_count": null,
   "metadata": {},
   "outputs": [],
   "source": []
  }
 ],
 "metadata": {
  "kernelspec": {
   "display_name": "text-summer",
   "language": "python",
   "name": "python3"
  },
  "language_info": {
   "codemirror_mode": {
    "name": "ipython",
    "version": 3
   },
   "file_extension": ".py",
   "mimetype": "text/x-python",
   "name": "python",
   "nbconvert_exporter": "python",
   "pygments_lexer": "ipython3",
   "version": "3.8.19"
  }
 },
 "nbformat": 4,
 "nbformat_minor": 2
}
