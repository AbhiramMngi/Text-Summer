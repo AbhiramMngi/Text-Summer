{
 "cells": [
  {
   "cell_type": "code",
   "execution_count": 1,
   "metadata": {},
   "outputs": [],
   "source": [
    "import os \n",
    "from textSummer.logging import logger"
   ]
  },
  {
   "cell_type": "code",
   "execution_count": 2,
   "metadata": {},
   "outputs": [],
   "source": [
    "from dataclasses import dataclass\n",
    "from pathlib import Path\n",
    "\n",
    "@dataclass(frozen=True)\n",
    "class DataIngestionConfig:\n",
    "  root_dir: Path\n",
    "  source_url: str \n",
    "  local_data_file: Path\n",
    "  unzip_dir: Path"
   ]
  },
  {
   "cell_type": "code",
   "execution_count": 3,
   "metadata": {},
   "outputs": [
    {
     "name": "stdout",
     "output_type": "stream",
     "text": [
      "helooo\n"
     ]
    }
   ],
   "source": [
    "from textSummer.constants import *\n",
    "from textSummer.utils.common import read_yaml, create_directories"
   ]
  },
  {
   "cell_type": "code",
   "execution_count": 4,
   "metadata": {},
   "outputs": [],
   "source": [
    "class ConfigurationManager(object):\n",
    "  def __init__(\n",
    "      self,\n",
    "      config_filepath = CONFIG_FILE_PATH,\n",
    "      params_filepath = PARAMS_FILE_PATH\n",
    "  ):\n",
    "    self.config = read_yaml(config_filepath)\n",
    "    self.params = read_yaml(params_filepath)\n",
    "    print(create_directories)\n",
    "    create_directories([self.config.artifacts_root])\n",
    "  \n",
    "  def get_data_ingestion_config(self) -> DataIngestionConfig:\n",
    "    \n",
    "    config = self.config.data_ingestion\n",
    "    \n",
    "    create_directories([config.root_dir])\n",
    "\n",
    "\n",
    "    return DataIngestionConfig(\n",
    "      root_dir = config.root_dir,\n",
    "      source_url = config.source_url,\n",
    "      local_data_file = config.local_data_file,\n",
    "      unzip_dir = config.unzip_dir\n",
    "    )"
   ]
  },
  {
   "cell_type": "code",
   "execution_count": 5,
   "metadata": {},
   "outputs": [],
   "source": [
    "import os \n",
    "import urllib.request as request \n",
    "import zipfile \n",
    "from textSummer.logging import logger \n",
    "from textSummer.utils.common import get_size "
   ]
  },
  {
   "cell_type": "code",
   "execution_count": 13,
   "metadata": {},
   "outputs": [],
   "source": [
    "class DataIngestion:\n",
    "  def __init__(self, config: DataIngestionConfig):\n",
    "    self.config = config\n",
    "\n",
    "  def download_file(self):\n",
    "    if os.path.exists(self.config.local_data_file):\n",
    "      logger.info(f\"{self.config.local_data_file} already exists of size: {get_size(Path(self.config.local_data_file))}\")\n",
    "      return \n",
    "\n",
    "    filename, headers = request.urlretrieve(\n",
    "      url = self.config.source_url,\n",
    "      filename = self.config.local_data_file\n",
    "    )\n",
    "\n",
    "    logger.info(f\"{filename} downloaded successfully. info: {headers}\")\n",
    "  \n",
    "  def extract_zip_file(self):\n",
    "    unzip_path = self.config.unzip_dir\n",
    "\n",
    "    if not os.path.exists(unzip_path): os.makedirs(unzip_path)\n",
    "\n",
    "    with zipfile.ZipFile(self.config.local_data_file, 'r') as zip_ref:\n",
    "      zip_ref.extractall(unzip_path)"
   ]
  },
  {
   "cell_type": "code",
   "execution_count": 14,
   "metadata": {},
   "outputs": [
    {
     "name": "stdout",
     "output_type": "stream",
     "text": [
      "[2024-05-23 11:24:52,271: INFO: common: yaml file: config/config.yaml loaded successfully]\n",
      "hii {'artifacts_root': 'artifacts', 'data_ingestion': {'root_dir': 'artifacts/data_ingestion', 'source_url': 'https://github.com/entbappy/Branching-Tutorial/raw/master/summarizer-data.zip', 'local_data_file': 'artifacts/data_ingestion/data.zip', 'unzip_dir': 'artifacts/data_ingestion'}} <class 'box.config_box.ConfigBox'>\n",
      "[2024-05-23 11:24:52,274: INFO: common: yaml file: params.yaml loaded successfully]\n",
      "hii {'key': 'value'} <class 'box.config_box.ConfigBox'>\n",
      "<function create_directories at 0x1067440d0>\n",
      "hi\n",
      "[2024-05-23 11:24:52,275: INFO: common: Created directory: artifacts]\n",
      "hi\n",
      "[2024-05-23 11:24:52,276: INFO: common: Created directory: artifacts/data_ingestion]\n",
      "hii 7718 KB <class 'str'>\n",
      "[2024-05-23 11:24:52,276: INFO: 3330392786: artifacts/data_ingestion/data.zip already exists of size: 7718 KB]\n"
     ]
    }
   ],
   "source": [
    "try:\n",
    "  config_man = ConfigurationManager()\n",
    "  data_ingestion_config = config_man.get_data_ingestion_config()\n",
    "  data_ingestion = DataIngestion(config=data_ingestion_config)\n",
    "\n",
    "  data_ingestion.download_file()\n",
    "  data_ingestion.extract_zip_file()\n",
    "except Exception as e:\n",
    "  raise e"
   ]
  },
  {
   "cell_type": "code",
   "execution_count": null,
   "metadata": {},
   "outputs": [],
   "source": []
  }
 ],
 "metadata": {
  "kernelspec": {
   "display_name": "text-summer",
   "language": "python",
   "name": "python3"
  },
  "language_info": {
   "codemirror_mode": {
    "name": "ipython",
    "version": 3
   },
   "file_extension": ".py",
   "mimetype": "text/x-python",
   "name": "python",
   "nbconvert_exporter": "python",
   "pygments_lexer": "ipython3",
   "version": "3.8.19"
  }
 },
 "nbformat": 4,
 "nbformat_minor": 2
}
